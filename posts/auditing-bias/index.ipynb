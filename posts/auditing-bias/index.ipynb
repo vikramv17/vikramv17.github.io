{
 "cells": [
  {
   "cell_type": "raw",
   "metadata": {
    "vscode": {
     "languageId": "raw"
    }
   },
   "source": [
    "---\n",
    "title: Auditing Bias\n",
    "author: Vikram Vasan\n",
    "date: '2025-03-04'\n",
    "image: \"image.png\"\n",
    "description: \"Blog Post 3\"\n",
    "format: html\n",
    "---"
   ]
  },
  {
   "cell_type": "code",
   "execution_count": 2,
   "metadata": {},
   "outputs": [],
   "source": [
    "#| include: false\n",
    "\n",
    "import numpy as np\n",
    "import pandas as pd\n",
    "from folktables import ACSDataSource, ACSEmployment, BasicProblem, adult_filter\n",
    "from sklearn.model_selection import train_test_split, cross_val_score\n",
    "from sklearn.linear_model import LogisticRegression\n",
    "from sklearn.preprocessing import PolynomialFeatures\n",
    "from sklearn.pipeline import make_pipeline\n",
    "from sklearn.preprocessing import StandardScaler\n",
    "from sklearn.metrics import confusion_matrix\n",
    "import seaborn as sns\n",
    "import matplotlib.pyplot as plt\n",
    "import warnings"
   ]
  },
  {
   "cell_type": "markdown",
   "metadata": {},
   "source": [
    "# Abstract\n",
    "In this blog post, we explore the ability of machine learning models to predict employment among individuals in Colorado, using data from the American Community Survey’s Public Use Microdata Sample (PUMS). We will use a polynomial logistic regression model to predict employment status based on a variety of demographic and economic factors. We will exclude race from the training so that we can then determine if racial biases are still exhibited despite not explicitly including race. We find that racial biases are still present in the model, and conclude that predictive models should be carefully evaluated for biases before being used in decision-making processes.\n",
    "\n",
    "# Data Organization\n",
    "\n",
    "Since I am from Denver, I will be using Colorado as the source of my data. the following code pulls the data from Colorado for the PUMS survey."
   ]
  },
  {
   "cell_type": "code",
   "execution_count": 3,
   "metadata": {},
   "outputs": [
    {
     "data": {
      "text/html": [
       "<div>\n",
       "<style scoped>\n",
       "    .dataframe tbody tr th:only-of-type {\n",
       "        vertical-align: middle;\n",
       "    }\n",
       "\n",
       "    .dataframe tbody tr th {\n",
       "        vertical-align: top;\n",
       "    }\n",
       "\n",
       "    .dataframe thead th {\n",
       "        text-align: right;\n",
       "    }\n",
       "</style>\n",
       "<table border=\"1\" class=\"dataframe\">\n",
       "  <thead>\n",
       "    <tr style=\"text-align: right;\">\n",
       "      <th></th>\n",
       "      <th>RT</th>\n",
       "      <th>SERIALNO</th>\n",
       "      <th>DIVISION</th>\n",
       "      <th>SPORDER</th>\n",
       "      <th>PUMA</th>\n",
       "      <th>REGION</th>\n",
       "      <th>ST</th>\n",
       "      <th>ADJINC</th>\n",
       "      <th>PWGTP</th>\n",
       "      <th>AGEP</th>\n",
       "      <th>...</th>\n",
       "      <th>PWGTP71</th>\n",
       "      <th>PWGTP72</th>\n",
       "      <th>PWGTP73</th>\n",
       "      <th>PWGTP74</th>\n",
       "      <th>PWGTP75</th>\n",
       "      <th>PWGTP76</th>\n",
       "      <th>PWGTP77</th>\n",
       "      <th>PWGTP78</th>\n",
       "      <th>PWGTP79</th>\n",
       "      <th>PWGTP80</th>\n",
       "    </tr>\n",
       "  </thead>\n",
       "  <tbody>\n",
       "    <tr>\n",
       "      <th>0</th>\n",
       "      <td>P</td>\n",
       "      <td>2018GQ0000225</td>\n",
       "      <td>8</td>\n",
       "      <td>1</td>\n",
       "      <td>300</td>\n",
       "      <td>4</td>\n",
       "      <td>8</td>\n",
       "      <td>1013097</td>\n",
       "      <td>26</td>\n",
       "      <td>16</td>\n",
       "      <td>...</td>\n",
       "      <td>23</td>\n",
       "      <td>4</td>\n",
       "      <td>24</td>\n",
       "      <td>33</td>\n",
       "      <td>53</td>\n",
       "      <td>46</td>\n",
       "      <td>5</td>\n",
       "      <td>4</td>\n",
       "      <td>47</td>\n",
       "      <td>42</td>\n",
       "    </tr>\n",
       "    <tr>\n",
       "      <th>1</th>\n",
       "      <td>P</td>\n",
       "      <td>2018GQ0000483</td>\n",
       "      <td>8</td>\n",
       "      <td>1</td>\n",
       "      <td>4103</td>\n",
       "      <td>4</td>\n",
       "      <td>8</td>\n",
       "      <td>1013097</td>\n",
       "      <td>41</td>\n",
       "      <td>19</td>\n",
       "      <td>...</td>\n",
       "      <td>7</td>\n",
       "      <td>40</td>\n",
       "      <td>39</td>\n",
       "      <td>43</td>\n",
       "      <td>41</td>\n",
       "      <td>6</td>\n",
       "      <td>41</td>\n",
       "      <td>6</td>\n",
       "      <td>41</td>\n",
       "      <td>44</td>\n",
       "    </tr>\n",
       "    <tr>\n",
       "      <th>2</th>\n",
       "      <td>P</td>\n",
       "      <td>2018GQ0000529</td>\n",
       "      <td>8</td>\n",
       "      <td>1</td>\n",
       "      <td>4101</td>\n",
       "      <td>4</td>\n",
       "      <td>8</td>\n",
       "      <td>1013097</td>\n",
       "      <td>16</td>\n",
       "      <td>24</td>\n",
       "      <td>...</td>\n",
       "      <td>31</td>\n",
       "      <td>16</td>\n",
       "      <td>1</td>\n",
       "      <td>32</td>\n",
       "      <td>17</td>\n",
       "      <td>15</td>\n",
       "      <td>16</td>\n",
       "      <td>17</td>\n",
       "      <td>2</td>\n",
       "      <td>18</td>\n",
       "    </tr>\n",
       "    <tr>\n",
       "      <th>3</th>\n",
       "      <td>P</td>\n",
       "      <td>2018GQ0000670</td>\n",
       "      <td>8</td>\n",
       "      <td>1</td>\n",
       "      <td>818</td>\n",
       "      <td>4</td>\n",
       "      <td>8</td>\n",
       "      <td>1013097</td>\n",
       "      <td>3</td>\n",
       "      <td>22</td>\n",
       "      <td>...</td>\n",
       "      <td>6</td>\n",
       "      <td>3</td>\n",
       "      <td>2</td>\n",
       "      <td>7</td>\n",
       "      <td>3</td>\n",
       "      <td>4</td>\n",
       "      <td>5</td>\n",
       "      <td>3</td>\n",
       "      <td>3</td>\n",
       "      <td>3</td>\n",
       "    </tr>\n",
       "    <tr>\n",
       "      <th>4</th>\n",
       "      <td>P</td>\n",
       "      <td>2018GQ0000721</td>\n",
       "      <td>8</td>\n",
       "      <td>1</td>\n",
       "      <td>819</td>\n",
       "      <td>4</td>\n",
       "      <td>8</td>\n",
       "      <td>1013097</td>\n",
       "      <td>17</td>\n",
       "      <td>65</td>\n",
       "      <td>...</td>\n",
       "      <td>22</td>\n",
       "      <td>0</td>\n",
       "      <td>17</td>\n",
       "      <td>37</td>\n",
       "      <td>0</td>\n",
       "      <td>0</td>\n",
       "      <td>30</td>\n",
       "      <td>16</td>\n",
       "      <td>17</td>\n",
       "      <td>1</td>\n",
       "    </tr>\n",
       "  </tbody>\n",
       "</table>\n",
       "<p>5 rows × 286 columns</p>\n",
       "</div>"
      ],
      "text/plain": [
       "  RT       SERIALNO  DIVISION  SPORDER  PUMA  REGION  ST   ADJINC  PWGTP  \\\n",
       "0  P  2018GQ0000225         8        1   300       4   8  1013097     26   \n",
       "1  P  2018GQ0000483         8        1  4103       4   8  1013097     41   \n",
       "2  P  2018GQ0000529         8        1  4101       4   8  1013097     16   \n",
       "3  P  2018GQ0000670         8        1   818       4   8  1013097      3   \n",
       "4  P  2018GQ0000721         8        1   819       4   8  1013097     17   \n",
       "\n",
       "   AGEP  ...  PWGTP71  PWGTP72  PWGTP73  PWGTP74  PWGTP75  PWGTP76  PWGTP77  \\\n",
       "0    16  ...       23        4       24       33       53       46        5   \n",
       "1    19  ...        7       40       39       43       41        6       41   \n",
       "2    24  ...       31       16        1       32       17       15       16   \n",
       "3    22  ...        6        3        2        7        3        4        5   \n",
       "4    65  ...       22        0       17       37        0        0       30   \n",
       "\n",
       "   PWGTP78  PWGTP79  PWGTP80  \n",
       "0        4       47       42  \n",
       "1        6       41       44  \n",
       "2       17        2       18  \n",
       "3        3        3        3  \n",
       "4       16       17        1  \n",
       "\n",
       "[5 rows x 286 columns]"
      ]
     },
     "execution_count": 3,
     "metadata": {},
     "output_type": "execute_result"
    }
   ],
   "source": [
    "STATE = \"CO\"\n",
    "\n",
    "data_source = ACSDataSource(survey_year='2018', \n",
    "                            horizon='1-Year', \n",
    "                            survey='person')\n",
    "\n",
    "acs_data = data_source.get_data(states=[STATE], download=True)\n",
    "\n",
    "acs_data.head()"
   ]
  },
  {
   "cell_type": "markdown",
   "metadata": {},
   "source": [
    "The next step is to remove the target column (employment status) and race column from the dataset. We are trying to predict employment status, so that can't be one of the features we train on. Additionally, we are trying to test if a model predicting employment status is racially biased without training on race so we need to remove race too. The following code splits the features and creates a BasicProblem object based on those features."
   ]
  },
  {
   "cell_type": "code",
   "execution_count": 4,
   "metadata": {},
   "outputs": [],
   "source": [
    "possible_features=['AGEP', 'SCHL', 'MAR', 'RELP', 'DIS', 'ESP', 'CIT', 'MIG', 'MIL', 'ANC', 'NATIVITY', 'DEAR', 'DEYE', 'DREM', 'SEX', 'RAC1P', 'ESR']\n",
    "features_to_use = [f for f in possible_features if f not in [\"ESR\", \"RAC1P\"]]\n",
    "\n",
    "EmploymentProblem = BasicProblem(\n",
    "    features=features_to_use,\n",
    "    target='ESR',\n",
    "    target_transform=lambda x: x == 1,\n",
    "    group='RAC1P',\n",
    "    preprocess=lambda x: x,\n",
    "    postprocess=lambda x: np.nan_to_num(x, -1),\n",
    ")\n",
    "\n",
    "features, label, group = EmploymentProblem.df_to_numpy(acs_data)"
   ]
  },
  {
   "cell_type": "markdown",
   "metadata": {},
   "source": [
    "Next we need to split our data into a training and testing set. The following code does that using train_test_split from sklearn to create a test set that is 20% of the data."
   ]
  },
  {
   "cell_type": "code",
   "execution_count": 5,
   "metadata": {},
   "outputs": [],
   "source": [
    "X_train, X_test, y_train, y_test, group_train, group_test = train_test_split(\n",
    "    features, label, group, test_size=0.2, random_state=0)"
   ]
  },
  {
   "cell_type": "markdown",
   "metadata": {},
   "source": [
    "# Basic Descriptives\n",
    "\n",
    "Next we want to examine the training data to better understand the proportions as they relate to employment status and race along with sex. Looking at these intersectional trends will give us a sense of the baseline we are working with. We will first find the number of individuals in the dataset, and then the number of individuals that identify as either White or Black, then the employment proportions of both groups. Finally we will look at intersectional trends between race and sex."
   ]
  },
  {
   "cell_type": "code",
   "execution_count": 6,
   "metadata": {},
   "outputs": [
    {
     "name": "stdout",
     "output_type": "stream",
     "text": [
      "Number of individuals in the data: 44742\n",
      "\n",
      "Proportion of individuals with target label equal to 1: 0.50\n",
      "\n",
      "Number of individuals in each group:\n"
     ]
    },
    {
     "data": {
      "text/html": [
       "<div>\n",
       "<style scoped>\n",
       "    .dataframe tbody tr th:only-of-type {\n",
       "        vertical-align: middle;\n",
       "    }\n",
       "\n",
       "    .dataframe tbody tr th {\n",
       "        vertical-align: top;\n",
       "    }\n",
       "\n",
       "    .dataframe thead th {\n",
       "        text-align: right;\n",
       "    }\n",
       "</style>\n",
       "<table border=\"1\" class=\"dataframe\">\n",
       "  <thead>\n",
       "    <tr style=\"text-align: right;\">\n",
       "      <th></th>\n",
       "      <th>count</th>\n",
       "    </tr>\n",
       "    <tr>\n",
       "      <th>RACE</th>\n",
       "      <th></th>\n",
       "    </tr>\n",
       "  </thead>\n",
       "  <tbody>\n",
       "    <tr>\n",
       "      <th>White</th>\n",
       "      <td>38951</td>\n",
       "    </tr>\n",
       "    <tr>\n",
       "      <th>Black</th>\n",
       "      <td>1264</td>\n",
       "    </tr>\n",
       "  </tbody>\n",
       "</table>\n",
       "</div>"
      ],
      "text/plain": [
       "       count\n",
       "RACE        \n",
       "White  38951\n",
       "Black   1264"
      ]
     },
     "metadata": {},
     "output_type": "display_data"
    },
    {
     "name": "stdout",
     "output_type": "stream",
     "text": [
      "Proportion of positive target labels by race:\n"
     ]
    },
    {
     "data": {
      "text/html": [
       "<div>\n",
       "<style scoped>\n",
       "    .dataframe tbody tr th:only-of-type {\n",
       "        vertical-align: middle;\n",
       "    }\n",
       "\n",
       "    .dataframe tbody tr th {\n",
       "        vertical-align: top;\n",
       "    }\n",
       "\n",
       "    .dataframe thead th {\n",
       "        text-align: right;\n",
       "    }\n",
       "</style>\n",
       "<table border=\"1\" class=\"dataframe\">\n",
       "  <thead>\n",
       "    <tr style=\"text-align: right;\">\n",
       "      <th></th>\n",
       "      <th>Employment Proportion</th>\n",
       "    </tr>\n",
       "    <tr>\n",
       "      <th>RACE</th>\n",
       "      <th></th>\n",
       "    </tr>\n",
       "  </thead>\n",
       "  <tbody>\n",
       "    <tr>\n",
       "      <th>Black</th>\n",
       "      <td>0.434335</td>\n",
       "    </tr>\n",
       "    <tr>\n",
       "      <th>White</th>\n",
       "      <td>0.504737</td>\n",
       "    </tr>\n",
       "  </tbody>\n",
       "</table>\n",
       "</div>"
      ],
      "text/plain": [
       "       Employment Proportion\n",
       "RACE                        \n",
       "Black               0.434335\n",
       "White               0.504737"
      ]
     },
     "metadata": {},
     "output_type": "display_data"
    },
    {
     "name": "stdout",
     "output_type": "stream",
     "text": [
      "Proportion of positive target labels by race and sex:\n"
     ]
    },
    {
     "data": {
      "text/html": [
       "<div>\n",
       "<style scoped>\n",
       "    .dataframe tbody tr th:only-of-type {\n",
       "        vertical-align: middle;\n",
       "    }\n",
       "\n",
       "    .dataframe tbody tr th {\n",
       "        vertical-align: top;\n",
       "    }\n",
       "\n",
       "    .dataframe thead th {\n",
       "        text-align: right;\n",
       "    }\n",
       "</style>\n",
       "<table border=\"1\" class=\"dataframe\">\n",
       "  <thead>\n",
       "    <tr style=\"text-align: right;\">\n",
       "      <th>SEX</th>\n",
       "      <th>Female</th>\n",
       "      <th>Male</th>\n",
       "    </tr>\n",
       "    <tr>\n",
       "      <th>RACE</th>\n",
       "      <th></th>\n",
       "      <th></th>\n",
       "    </tr>\n",
       "  </thead>\n",
       "  <tbody>\n",
       "    <tr>\n",
       "      <th>Black</th>\n",
       "      <td>0.405676</td>\n",
       "      <td>0.460150</td>\n",
       "    </tr>\n",
       "    <tr>\n",
       "      <th>White</th>\n",
       "      <td>0.473525</td>\n",
       "      <td>0.535995</td>\n",
       "    </tr>\n",
       "  </tbody>\n",
       "</table>\n",
       "</div>"
      ],
      "text/plain": [
       "SEX      Female      Male\n",
       "RACE                     \n",
       "Black  0.405676  0.460150\n",
       "White  0.473525  0.535995"
      ]
     },
     "metadata": {},
     "output_type": "display_data"
    },
    {
     "data": {
      "image/png": "[encoded data removed]",
      "text/plain": [
       "<Figure size 1000x600 with 1 Axes>"
      ]
     },
     "metadata": {},
     "output_type": "display_data"
    }
   ],
   "source": [
    "df = pd.DataFrame(X_train, columns = features_to_use)\n",
    "df[\"RACE\"] = group_train\n",
    "df[\"label\"] = y_train\n",
    "\n",
    "num_individuals = len(df)\n",
    "print(f\"Number of individuals in the data: {num_individuals}\\n\")\n",
    "\n",
    "proportion_target_1 = df['label'].mean()\n",
    "print(f\"Proportion of individuals with target label equal to 1: {proportion_target_1:.2f}\\n\")\n",
    "\n",
    "df = df[df[\"RACE\"].isin([1, 2])]\n",
    "df[\"RACE\"] = df[\"RACE\"].map({1: \"White\", 2: \"Black\"})\n",
    "df[\"SEX\"] = df[\"SEX\"].map({1: \"Male\", 2: \"Female\"})\n",
    "\n",
    "group_counts = df['RACE'].value_counts()\n",
    "print(\"Number of individuals in each group:\")\n",
    "display(group_counts.to_frame(name='count'))\n",
    "\n",
    "group_proportion = df.groupby('RACE')['label'].mean()\n",
    "print(\"Proportion of positive target labels by race:\")\n",
    "display(group_proportion.to_frame(name='Employment Proportion'))\n",
    "\n",
    "intersectional_proportion = df.groupby(['RACE', 'SEX'])['label'].mean().unstack()\n",
    "print(\"Proportion of positive target labels by race and sex:\")\n",
    "display(intersectional_proportion)\n",
    "\n",
    "intersectional_proportion = intersectional_proportion.reset_index().melt(id_vars='RACE', value_name='proportion')\n",
    "\n",
    "plt.figure(figsize=(10, 6))\n",
    "sns.barplot(x='RACE', y='proportion', hue='SEX', data=intersectional_proportion)\n",
    "plt.xlabel('Race')\n",
    "plt.ylabel('Proportion of Positive Target Labels')\n",
    "plt.title('Proportion of Positive Target Labels by Race and Sex')\n",
    "plt.legend(title='Sex')\n",
    "plt.show()"
   ]
  },
  {
   "cell_type": "markdown",
   "metadata": {},
   "source": [
    "As we can see, there are 44,742 people in the dataset, 38,951 of which are White and 1,264 of which are Black. Overall, exactly half of the people are employed, and the employment proportions are 50.47% for White individuals and 43.43% for Black individuals. For both groups, the proportion of women who are employed is lower than the proportion men with 53.60% of White men employed compared to 47.35% of White women and 46.02% of Black men compared to 40.57% of Black women. The gaps between groups in interesting and illuminates the potential racial and sex-based biases in employment in Colorado.\n",
    "\n",
    "# Model Training\n",
    "\n",
    "Next we will train a model on the training data and evaluate it on the test data. We will use a logistic regression model, but we are interested in the potential of polynomial features to improve to predictions. To test the effect of polynomial features we will use cross validation testing with a range of polynomial degrees. The following code does this and outputs the results."
   ]
  },
  {
   "cell_type": "code",
   "execution_count": 7,
   "metadata": {},
   "outputs": [
    {
     "data": {
      "text/html": [
       "<div>\n",
       "<style scoped>\n",
       "    .dataframe tbody tr th:only-of-type {\n",
       "        vertical-align: middle;\n",
       "    }\n",
       "\n",
       "    .dataframe tbody tr th {\n",
       "        vertical-align: top;\n",
       "    }\n",
       "\n",
       "    .dataframe thead th {\n",
       "        text-align: right;\n",
       "    }\n",
       "</style>\n",
       "<table border=\"1\" class=\"dataframe\">\n",
       "  <thead>\n",
       "    <tr style=\"text-align: right;\">\n",
       "      <th></th>\n",
       "      <th>Degree</th>\n",
       "      <th>Cross-Validation Score</th>\n",
       "    </tr>\n",
       "  </thead>\n",
       "  <tbody>\n",
       "    <tr>\n",
       "      <th>0</th>\n",
       "      <td>1</td>\n",
       "      <td>0.787962</td>\n",
       "    </tr>\n",
       "    <tr>\n",
       "      <th>1</th>\n",
       "      <td>2</td>\n",
       "      <td>0.815163</td>\n",
       "    </tr>\n",
       "    <tr>\n",
       "      <th>2</th>\n",
       "      <td>3</td>\n",
       "      <td>0.814380</td>\n",
       "    </tr>\n",
       "    <tr>\n",
       "      <th>3</th>\n",
       "      <td>4</td>\n",
       "      <td>0.758460</td>\n",
       "    </tr>\n",
       "  </tbody>\n",
       "</table>\n",
       "</div>"
      ],
      "text/plain": [
       "   Degree  Cross-Validation Score\n",
       "0       1                0.787962\n",
       "1       2                0.815163\n",
       "2       3                0.814380\n",
       "3       4                0.758460"
      ]
     },
     "metadata": {},
     "output_type": "display_data"
    }
   ],
   "source": [
    "warnings.filterwarnings('ignore')\n",
    "degrees = range(1, 5)\n",
    "tests = []\n",
    "\n",
    "for degree in degrees:\n",
    "    poly = PolynomialFeatures(degree)\n",
    "    X_train_poly = poly.fit_transform(X_train)\n",
    "    LR = LogisticRegression()\n",
    "    LR.fit(X_train_poly, y_train)\n",
    "    LR.score(X_train_poly, y_train)\n",
    "    cv_scores = cross_val_score(LR, X_train_poly, y_train, cv = 5)\n",
    "    tests.append((degree, cv_scores.mean()))\n",
    "\n",
    "df_results = pd.DataFrame(tests, columns=[\"Degree\", \"Cross-Validation Score\"])\n",
    "df_results.reset_index(drop=True, inplace=True)\n",
    "display(df_results)"
   ]
  },
  {
   "cell_type": "markdown",
   "metadata": {},
   "source": [
    "As we can see, the Logistic Regression with degree of 2 performs the best, closely followed by degree 3. Given this we will use degree 2 for the rest of the analysis. The following code fits a degree 2 logistic regression model on the training data and evaluates it on the test data, outputting the accuracy."
   ]
  },
  {
   "cell_type": "code",
   "execution_count": 8,
   "metadata": {},
   "outputs": [
    {
     "name": "stdout",
     "output_type": "stream",
     "text": [
      "Accuracy: 0.8146790631146076\n"
     ]
    }
   ],
   "source": [
    "model = make_pipeline(PolynomialFeatures(2), LogisticRegression())\n",
    "model.fit(X_train, y_train)\n",
    "y_hat = model.predict(X_test)\n",
    "print(f\"Accuracy: {(y_hat == y_test).mean()}\")"
   ]
  },
  {
   "cell_type": "markdown",
   "metadata": {},
   "source": [
    "As we can see, the model has an accuracy of 0.815 which is very similar to the cross validation results. This is a good sign that the model is generalizing well to the test data.\n",
    "\n",
    "# Bias Audit\n",
    "\n",
    "The next step is to audit the results for bias. The first step is to understand the PPV and FPR rates for the overall model so that we can compare those to the rates for each group. The following code does this."
   ]
  },
  {
   "cell_type": "code",
   "execution_count": 9,
   "metadata": {},
   "outputs": [
    {
     "name": "stdout",
     "output_type": "stream",
     "text": [
      "Positive Predictive Value (PPV): 0.78\n",
      "False Positive Rate (FPR): 0.25\n",
      "False Negative Rate (FNR): 0.12\n"
     ]
    }
   ],
   "source": [
    "tn, fp, fn, tp = confusion_matrix(y_test, y_hat).ravel()\n",
    "\n",
    "ppv = tp / (tp + fp)\n",
    "print(f\"Positive Predictive Value (PPV): {ppv:.2f}\")\n",
    "\n",
    "fpr = fp / (fp + tn)\n",
    "fnr = fn / (fn + tp)\n",
    "print(f\"False Positive Rate (FPR): {fpr:.2f}\")\n",
    "print(f\"False Negative Rate (FNR): {fnr:.2f}\")"
   ]
  },
  {
   "cell_type": "markdown",
   "metadata": {},
   "source": [
    "As we can see, the overall model has a PPV of 0.78, a FPR of 0.25, and a FNR of 0.12, along with the aforementioned accuracy of 0.82. Next we will calculate these metrics for each group. The following code does this."
   ]
  },
  {
   "cell_type": "code",
   "execution_count": 10,
   "metadata": {},
   "outputs": [
    {
     "name": "stdout",
     "output_type": "stream",
     "text": [
      "Accuracy for White Individuals 0.8162256769278287\n",
      "Accuracy for Black Individuals 0.756578947368421\n"
     ]
    }
   ],
   "source": [
    "print(f\"Accuracy for White Individuals {(y_hat == y_test)[group_test == 1].mean()}\")\n",
    "print(f\"Accuracy for Black Individuals {(y_hat == y_test)[group_test == 2].mean()}\")"
   ]
  },
  {
   "cell_type": "markdown",
   "metadata": {},
   "source": [
    "These results show a small difference between groups. While the accuracy for White individuals is almost exactly in line with the overall model, the accuracy for Black individuals is 6 points lower. Statistical tests would be needed to determine if this difference is statistically significant, but these results suggest that the model may be biased against Black individuals.\n",
    "\n",
    "Next we will calculate the PPV, FPR, and FNR for each group. The following code does this."
   ]
  },
  {
   "cell_type": "code",
   "execution_count": 25,
   "metadata": {},
   "outputs": [
    {
     "name": "stdout",
     "output_type": "stream",
     "text": [
      "Positive Predictive Value (PPV) for White Individuals: 0.78\n",
      "Positive Predictive Value (PPV) for Black Individuals: 0.66\n",
      "\n",
      "False Positive Rate (FPR) for White Individuals: 0.25\n",
      "False Negative Rate (FNR) for White Individuals: 0.12\n",
      "False Positive Rate (FPR) for Black Individuals: 0.28\n",
      "False Negative Rate (FNR) for Black Individuals: 0.20\n"
     ]
    }
   ],
   "source": [
    "X_test_df = pd.DataFrame(X_test, columns=features_to_use)\n",
    "X_test_df[\"Race\"] = group_test\n",
    "X_test_df[\"Employment Prediction\"] = y_hat\n",
    "X_test_df[\"Employment Actual\"] = y_test\n",
    "X_test_df = X_test_df[X_test_df[\"Race\"].isin([1, 2])]\n",
    "X_test_df[\"Race\"] = X_test_df[\"Race\"].map({1: \"White\", 2: \"Black\"})\n",
    "\n",
    "X_test_df_white = X_test_df[X_test_df[\"Race\"] == \"White\"]\n",
    "X_test_df_black = X_test_df[X_test_df[\"Race\"] == \"Black\"]\n",
    "\n",
    "y_test_white = X_test_df_white[\"Employment Actual\"]\n",
    "y_hat_white = X_test_df_white[\"Employment Prediction\"]\n",
    "y_test_black = X_test_df_black[\"Employment Actual\"]\n",
    "y_hat_black = X_test_df_black[\"Employment Prediction\"]\n",
    "\n",
    "tn_white, fp_white, fn_white, tp_white = confusion_matrix(y_test_white, y_hat_white).ravel()\n",
    "tn_black, fp_black, fn_black, tp_black = confusion_matrix(y_test_black, y_hat_black).ravel()\n",
    "\n",
    "ppv_white = tp_white / (tp_white + fp_white)\n",
    "ppv_black = tp_black / (tp_black + fp_black)\n",
    "print(f\"Positive Predictive Value (PPV) for White Individuals: {ppv_white:.2f}\")\n",
    "print(f\"Positive Predictive Value (PPV) for Black Individuals: {ppv_black:.2f}\\n\")\n",
    "\n",
    "fpr_white = fp_white / (fp_white + tn_white)\n",
    "fnr_white = fn_white / (fn_white + tp_white)\n",
    "fpr_black = fp_black / (fp_black + tn_black)\n",
    "fnr_black = fn_black / (fn_black + tp_black)\n",
    "print(f\"False Positive Rate (FPR) for White Individuals: {fpr_white:.2f}\")\n",
    "print(f\"False Negative Rate (FNR) for White Individuals: {fnr_white:.2f}\")\n",
    "print(f\"False Positive Rate (FPR) for Black Individuals: {fpr_black:.2f}\")\n",
    "print(f\"False Negative Rate (FNR) for Black Individuals: {fnr_black:.2f}\")"
   ]
  },
  {
   "cell_type": "markdown",
   "metadata": {},
   "source": [
    "As we can see, the PPV for White individuals is 0.78 and the PPV for Black individuals is 0.66. The FPR for White individuals is 0.25 and the FPR for Black individuals is 0.28. The FNR for White individuals is 0.12 and the FNR for Black individuals is 0.20. These results suggest that the model is biased against Black individuals, with a lower PPV and higher FNR compared to White individuals.\n",
    "\n",
    "We next want to determine if the model is approximately calibrated. To do this we will check if the predicted probabilities match and don't depend on group membership. The following code does this."
   ]
  },
  {
   "cell_type": "code",
   "execution_count": 21,
   "metadata": {},
   "outputs": [
    {
     "data": {
      "text/html": [
       "<div>\n",
       "<style scoped>\n",
       "    .dataframe tbody tr th:only-of-type {\n",
       "        vertical-align: middle;\n",
       "    }\n",
       "\n",
       "    .dataframe tbody tr th {\n",
       "        vertical-align: top;\n",
       "    }\n",
       "\n",
       "    .dataframe thead th {\n",
       "        text-align: right;\n",
       "    }\n",
       "</style>\n",
       "<table border=\"1\" class=\"dataframe\">\n",
       "  <thead>\n",
       "    <tr style=\"text-align: right;\">\n",
       "      <th></th>\n",
       "      <th>Employment Actual - White</th>\n",
       "      <th>Employment Actual - Black</th>\n",
       "    </tr>\n",
       "    <tr>\n",
       "      <th>Employment Prediction</th>\n",
       "      <th></th>\n",
       "      <th></th>\n",
       "    </tr>\n",
       "  </thead>\n",
       "  <tbody>\n",
       "    <tr>\n",
       "      <th>False</th>\n",
       "      <td>0.137581</td>\n",
       "      <td>0.154839</td>\n",
       "    </tr>\n",
       "    <tr>\n",
       "      <th>True</th>\n",
       "      <td>0.781867</td>\n",
       "      <td>0.664430</td>\n",
       "    </tr>\n",
       "  </tbody>\n",
       "</table>\n",
       "</div>"
      ],
      "text/plain": [
       "                       Employment Actual - White  Employment Actual - Black\n",
       "Employment Prediction                                                      \n",
       "False                                   0.137581                   0.154839\n",
       "True                                    0.781867                   0.664430"
      ]
     },
     "metadata": {},
     "output_type": "display_data"
    },
    {
     "name": "stdout",
     "output_type": "stream",
     "text": [
      "Predicted Employement Proportion (White): 0.57\n",
      "Predicted Employement Proportion (Black): 0.49\n"
     ]
    }
   ],
   "source": [
    "calibration_white = X_test_df_white.groupby(\"Employment Prediction\")[\"Employment Actual\"].mean()\n",
    "calibration_black = X_test_df_black.groupby(\"Employment Prediction\")[\"Employment Actual\"].mean()\n",
    "calibration_white.columns = [\"Employment Prediction\", \"White\"]\n",
    "calibration_black.columns = [\"Employment Prediction\", \"Black\"]\n",
    "calibration_combined = pd.merge(calibration_white, calibration_black, on=\"Employment Prediction\", how=\"outer\")\n",
    "calibration_combined.columns = [\"Employment Actual - White\", \"Employment Actual - Black\"]\n",
    "display(calibration_combined)\n",
    "\n",
    "print(f\"Predicted Employement Proportion (White): {y_hat_white.mean():.2f}\")\n",
    "print(f\"Predicted Employement Proportion (Black): {y_hat_black.mean():.2f}\")"
   ]
  },
  {
   "cell_type": "markdown",
   "metadata": {},
   "source": [
    "Here, we see that the model is not perfectly calibrated, and that, given a True prediction, it is more accurate for White individuals than Black individuals. This means that the model is not approximately calibrated and is likely biased against Black individuals.\n",
    "\n",
    "The next question relates to error rate balance. Once again, we would need statistical significance tests to determine if the differences are significant, but the previous FPR and FNR results suggest that the model is somewhat biased against Black individuals with an 8 percentage point higher false negative rate. That said, Black individuals also have a 3 percentage point higher false positive rate, so the overall effect is unclear.\n",
    "\n",
    "Finally, we want to look at statistical parity. The previous results demonstrate that this is not satisfied as the positive prediction rate for White individuals is 8 percentage points higher than that of Black individuals. This suggests that the model is biased against Black individuals.\n",
    "\n",
    "The final step is to look at the feasible FNR and FPR rates to determine the ceiling for fairness of this model. The following code calculates and plots the results."
   ]
  },
  {
   "cell_type": "code",
   "execution_count": 26,
   "metadata": {},
   "outputs": [
    {
     "name": "stdout",
     "output_type": "stream",
     "text": [
      "Prevalence for White individuals: 0.51\n",
      "Prevalence for Black individuals: 0.40\n"
     ]
    },
    {
     "data": {
      "image/png": "[encoded data removed]",
      "text/plain": [
       "<Figure size 1000x600 with 1 Axes>"
      ]
     },
     "metadata": {},
     "output_type": "display_data"
    }
   ],
   "source": [
    "prevalence_white = y_test_white.mean()\n",
    "prevalence_black = y_test_black.mean()\n",
    "\n",
    "print(f\"Prevalence for White individuals: {prevalence_white:.2f}\")\n",
    "print(f\"Prevalence for Black individuals: {prevalence_black:.2f}\")\n",
    "\n",
    "desired_ppv_white = ppv_white\n",
    "desired_ppv_black = ppv_black\n",
    "\n",
    "fnr_values = np.linspace(0, 1, 100)\n",
    "\n",
    "fpr_line_white = (prevalence_white / (1 - prevalence_white))*((1 - desired_ppv_white) / desired_ppv_white) * (1 - fnr_values)\n",
    "fpr_line_black = (prevalence_black / (1 - prevalence_black))*((1 - desired_ppv_black) / desired_ppv_black) * (1 - fnr_values)\n",
    "\n",
    "plt.figure(figsize=(10, 6))\n",
    "plt.plot(fnr_values, fpr_line_white, label='White', color='blue')\n",
    "plt.plot(fnr_values, fpr_line_black, label='Black', color='red')\n",
    "plt.scatter(fpr_white, fnr_white, color='blue')\n",
    "plt.scatter(fpr_black, fnr_black, color='red')\n",
    "plt.xlabel('False Negative Rate (FNR)')\n",
    "plt.ylabel('False Positive Rate (FPR)')\n",
    "plt.title('Feasible (FNR, FPR) Combinations')\n",
    "plt.legend()\n",
    "plt.grid(True)\n",
    "plt.xlim(0, 1)\n",
    "plt.ylim(0, 1)\n",
    "plt.show()"
   ]
  },
  {
   "cell_type": "markdown",
   "metadata": {},
   "source": [
    "Holding the prevalence and PPV values fixed at their observed values, in order for false positive rates to be equal between groups, the false negative rate for Black individuals would have to be around 0.70. You can see this by looking at the point for White individuals which represents the observed FNR and FPR values. The lines show feasible combinations, so to get the FPR for Black individuals to equal the observed White FPR, the FNR would have to be 0.70. This is obviously not desirable because it would mean that the model is losing a lot of accuracy. This demonstrates the tradeoff between error rate ballance and positive predictive value in models, as you can't have both.\n",
    "\n",
    "# Discussion\n",
    "Banks trying to determine whether to offer loans could stand to benefit from a system that predicts employment status. Employed individuals are much more likely to pay back their loans since they have a steady income, so if a bank could predict whether an individual is employed that would help simplify their loaning decisions.\n",
    "\n",
    "The bias audit illuminates that models based on the data available can easily become racially biased, favoring White people over their Black counterparts. Implementing such a model would greatly disadvantage Black individuals causing the unfair system to be perpetuated. This is a clear example of how machine learning models can perpetuate and exacerbate existing biases in society.\n",
    "\n",
    "This model definitely displays problematic bias since it is biased against Black individuals. It fails error rate balance as well as sufficiency, calibration, and statistical parity as discussed above.\n",
    "\n",
    "There are other potential problems associated with deploying such a model. As we saw in the brief intersectional analysis, the employment rates are also different between sexes. This means that the model could also be biased against certain sexes in addition to races and likely other groups as well. There is so much bias in society already so by using past data that reflects this, machine learning models can easily become biased in the same ways, perpetuating the problems."
   ]
  }
 ],
 "metadata": {
  "kernelspec": {
   "display_name": "ml-0451",
   "language": "python",
   "name": "python3"
  },
  "language_info": {
   "codemirror_mode": {
    "name": "ipython",
    "version": 3
   },
   "file_extension": ".py",
   "mimetype": "text/x-python",
   "name": "python",
   "nbconvert_exporter": "python",
   "pygments_lexer": "ipython3",
   "version": "3.9.21"
  }
 },
 "nbformat": 4,
 "nbformat_minor": 4
}
